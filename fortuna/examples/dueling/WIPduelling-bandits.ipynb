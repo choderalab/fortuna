{
 "cells": [
  {
   "cell_type": "code",
   "execution_count": 1,
   "metadata": {},
   "outputs": [],
   "source": [
    "import fortuna\n",
    "import numpy as np\n",
    "import os\n",
    "import pickle\n",
    "import itertools\n",
    "home_path = os.getcwd()"
   ]
  },
  {
   "cell_type": "markdown",
   "metadata": {},
   "source": [
    "# Dueling bandits\n",
    "https://reader.elsevier.com/reader/sd/pii/S0022000012000281?token=B68D38520003E31E4AAD0A97335C48912D85A7B5E3835743F296EB79DCCDD8DA3F9F6543777EA6D15BCE4820C421CE77\n",
    "\n",
    "\n",
    "#### Interleaved filter 2\n",
    "\n",
    "\n",
    "\n",
    "### Notes\n",
    "* can we use the dG to improve the rate of pruning\n",
    "* can we incorporate ddG into the CI metric?\n",
    "* could this be done as a batch process more efficiently for the case of many bandits? Cluster molecules following #heavy atom difference or another metric correlated to the thermodynamic length of the process into select groups, and then compare the 'winners' of each batch?\n",
    "* Can we initiate the P and c when we change the lead bandit in an intelligent way, such as to 'hot start' it"
   ]
  },
  {
   "cell_type": "code",
   "execution_count": 2,
   "metadata": {},
   "outputs": [],
   "source": [
    "class duellingBernoulli(fortuna.Bernoulli):\n",
    "    def __init__(self,p):\n",
    "        self.P = None\n",
    "        self.c = None\n",
    "        self.d = None\n",
    "        self.won = 0\n",
    "        super(duellingBernoulli,self).__init__(p)\n",
    "        \n",
    "    def calcP(self):\n",
    "        self.P =  (self.won) / self.steps\n",
    "        \n",
    "    def calcc(self,t):\n",
    "        # two different equations for this in different versions of the manuscript\n",
    "        #not sure which is correct\n",
    "        self.c = (np.log(1/d)/t)**0.5 \n",
    "        \n",
    "    def setd(self,d):\n",
    "        self.d = d\n",
    "    \n",
    "    def update(self,reward,t):\n",
    "        # unsure if the t here is the overall t, or the T from this round.\n",
    "        self.steps += 1\n",
    "        self.won += reward\n",
    "        self.calcP()\n",
    "        self.calcc(t)\n",
    "        \n",
    "    def check_in_CI(self):\n",
    "#         print(f'bounds: {(self.P - self.c)} -> {(self.P + self.c)}')\n",
    "        if 0.5 > (self.P - self.c) and 0.5 < (self.P + self.c):\n",
    "            return True\n",
    "        else:\n",
    "            return False\n",
    "        \n",
    "    def reset(self):\n",
    "        self.steps = 0\n",
    "        self.P = None \n",
    "        self.c = None\n",
    "        self.d = None\n",
    "        self.won = 0        \n",
    "        \n",
    "        \n",
    "class comparison(object):\n",
    "    def __init__(self,pair,dg,ddg):\n",
    "        self.pair = pair\n",
    "        self.dg = dg\n",
    "        self.ddg = ddg\n",
    "        self.i = 0\n",
    "        \n",
    "    def get_dg(self):\n",
    "        # need a safety net so that it can't go past the end of the array\n",
    "        result = self.dg[self.i]\n",
    "        self.i += 1\n",
    "        return result"
   ]
  },
  {
   "cell_type": "code",
   "execution_count": 3,
   "metadata": {
    "scrolled": true
   },
   "outputs": [
    {
     "name": "stdout",
     "output_type": "stream",
     "text": [
      "lig5to2/results.pi\n",
      "lig1to4/results.pi\n",
      "lig1to3/results.pi\n",
      "lig1to5/results.pi\n",
      "lig5to3/results.pi\n",
      "lig5to4/results.pi\n",
      "lig0to2/results.pi\n",
      "lig0to5/results.pi\n",
      "lig4to3/results.pi\n",
      "lig4to5/results.pi\n",
      "lig4to2/results.pi\n",
      "lig0to4/results.pi\n",
      "lig0to3/results.pi\n",
      "lig3to6/results.pi\n",
      "lig3to0/results.pi\n",
      "lig6to1/results.pi\n",
      "lig2to0/results.pi\n",
      "lig2to6/results.pi\n",
      "lig2to1/results.pi\n",
      "lig6to0/results.pi\n",
      "lig5to1/results.pi\n",
      "lig5to6/results.pi\n",
      "lig1to0/results.pi\n",
      "lig1to6/results.pi\n",
      "lig5to0/results.pi\n",
      "lig0to6/results.pi\n",
      "lig0to1/results.pi\n",
      "lig4to0/results.pi\n",
      "lig4to1/results.pi\n",
      "lig4to6/results.pi\n",
      "lig3to2/results.pi\n",
      "lig3to5/results.pi\n",
      "lig3to4/results.pi\n",
      "lig6to5/results.pi\n",
      "lig6to2/results.pi\n",
      "lig2to3/results.pi\n",
      "lig2to5/results.pi\n",
      "lig6to3/results.pi\n",
      "lig6to4/results.pi\n"
     ]
    }
   ],
   "source": [
    "# this needs a fully connected map to properly analyse\n",
    "os.chdir('/Users/brucemah/bin/perses/examples/perses-testing/repex')\n",
    "\n",
    "everything = []\n",
    "\n",
    "for sim in os.listdir():\n",
    "    filename = f'{sim}/results.pi'\n",
    "    if os.path.isfile(filename):\n",
    "        print(filename)\n",
    "        out = pickle.load(open(filename,'rb'))\n",
    "        everything.append(out)\n"
   ]
  },
  {
   "cell_type": "code",
   "execution_count": 4,
   "metadata": {},
   "outputs": [
    {
     "name": "stdout",
     "output_type": "stream",
     "text": [
      "0\n"
     ]
    }
   ],
   "source": [
    "K = 7\n",
    "bandits = [duellingBernoulli(None) for i in range(K)]\n",
    "\n",
    "B_hat_id = np.random.choice(K)\n",
    "B_hat = bandits[B_hat_id]\n",
    "print(B_hat_id)\n",
    "\n",
    "all_comparisons = []\n",
    "\n",
    "for i,j in itertools.combinations(range(K),2):\n",
    "    filename = f'lig{i}to{j}/results.pi'\n",
    "    if os.path.isfile(filename):\n",
    "        out = pickle.load(open(filename,'rb'))\n",
    "        edge = comparison((i,j),out['dg'],out['ddg'])\n",
    "        all_comparisons.append(edge)\n",
    "    elif os.path.isfile(f'lig{j}to{i}/results.pi'):\n",
    "        out = pickle.load(open(f'lig{j}to{i}/results.pi','rb'))\n",
    "        fixed = [-x for x in out['dg']]\n",
    "        edge = comparison((i,j),fixed,out['ddg'])\n",
    "        all_comparisons.append(edge)\n",
    "    else:\n",
    "        print('Nothing to use')"
   ]
  },
  {
   "cell_type": "code",
   "execution_count": 5,
   "metadata": {},
   "outputs": [
    {
     "name": "stdout",
     "output_type": "stream",
     "text": [
      "[((0, 1), 100), ((0, 2), 100), ((0, 3), 100), ((0, 4), 100), ((0, 5), 100), ((0, 6), 100), ((1, 2), 100), ((1, 3), 100), ((1, 4), 100), ((1, 5), 100), ((1, 6), 100), ((2, 3), 100), ((2, 4), 100), ((2, 5), 100), ((2, 6), 100), ((3, 4), 100), ((3, 5), 100), ((3, 6), 100), ((4, 5), 100), ((4, 6), 100), ((5, 6), 100)]\n"
     ]
    }
   ],
   "source": [
    "print([(x.pair,len(x.dg)) for x in all_comparisons])"
   ]
  },
  {
   "cell_type": "code",
   "execution_count": 6,
   "metadata": {},
   "outputs": [
    {
     "name": "stdout",
     "output_type": "stream",
     "text": [
      "Bandit 5 is out. There are now 6 bandits remaining\n",
      "The bandit has been beaten. The main bandit is now 6 and there are now 5 remaining bandits\n",
      "Bandit 2 is out. There are now 4 bandits remaining\n",
      "Bandit 3 is out. There are now 3 bandits remaining\n",
      "Bandit 4 is out. There are now 2 bandits remaining\n",
      "The bandit has been beaten. The main bandit is now 1 and there are now 1 remaining bandits\n",
      "FINISHED after 40 steps\n",
      "reached the end\n"
     ]
    }
   ],
   "source": [
    "W = [b for b in bandits if b is not B_hat]\n",
    "\n",
    "T = 100 # total comparisons\n",
    "T_run = 0 # comparisons so far\n",
    "\n",
    "d = 1. / (T * K**2)\n",
    "\n",
    "won = False\n",
    "\n",
    "for bandit in bandits:\n",
    "    bandit.setd(d)\n",
    "\n",
    "\n",
    "while T_run < T:\n",
    "    for bandit in W:\n",
    "        a = B_hat_id\n",
    "        b = bandits.index(bandit)\n",
    "        comparison = [x for x in all_comparisons if x.pair == (a,b)]\n",
    "        if len(comparison) == 1:\n",
    "            result = comparison[0].get_dg()\n",
    "            if result < 0.:\n",
    "                reward = True\n",
    "            else:\n",
    "                reward = False\n",
    "        else:\n",
    "            comparison = [x for x in all_comparisons if x.pair == (b,a)]\n",
    "            if len(comparison) == 1:\n",
    "                result = comparison[0].get_dg()\n",
    "                if result > 0.:\n",
    "                    reward = True\n",
    "                else:\n",
    "                    reward = False\n",
    "\n",
    "        \n",
    "        T_run += 1\n",
    "        bandit.update(reward,T_run)\n",
    "\n",
    "\n",
    "    # pruning\n",
    "    for bandit in W:\n",
    "        if bandit.P > 0.5 and bandit.check_in_CI() == False:\n",
    "            print(f'Bandit {bandits.index(bandit)} is out. There are now {len(W)} bandits remaining')\n",
    "            W = [b for b in W if b is not bandit] # removing this bandit from the list\n",
    "\n",
    "\n",
    "    for bandit in W:\n",
    "        if bandit.P < 0.5 and bandit.check_in_CI() == False:\n",
    "            # we have a winning bandit\n",
    "            B_hat = bandit\n",
    "            B_hat_id = bandits.index(bandit)\n",
    "            W = [b for b in W if b is not B_hat]            \n",
    "            print(f'The bandit has been beaten. The main bandit is now {B_hat_id}', \n",
    "                  f'and there are now {len(W)+1} remaining bandits')\n",
    "            won = True\n",
    "            \n",
    "    if len(W) == 0:\n",
    "        print(f'FINISHED after {T_run} steps')\n",
    "        T_final = int(T_run)\n",
    "        T_run = 2*T\n",
    "        \n",
    "    if won:\n",
    "        for bandit in W:\n",
    "            bandit.reset()\n",
    "            won = False\n",
    "print('reached the end')"
   ]
  },
  {
   "cell_type": "code",
   "execution_count": 7,
   "metadata": {},
   "outputs": [
    {
     "name": "stdout",
     "output_type": "stream",
     "text": [
      "The winning bandit is: 1\n"
     ]
    }
   ],
   "source": [
    "print(f'The winning bandit is: {B_hat_id}')"
   ]
  },
  {
   "cell_type": "code",
   "execution_count": null,
   "metadata": {},
   "outputs": [],
   "source": []
  },
  {
   "cell_type": "code",
   "execution_count": null,
   "metadata": {},
   "outputs": [],
   "source": []
  }
 ],
 "metadata": {
  "kernelspec": {
   "display_name": "Python 3",
   "language": "python",
   "name": "python3"
  },
  "language_info": {
   "codemirror_mode": {
    "name": "ipython",
    "version": 3
   },
   "file_extension": ".py",
   "mimetype": "text/x-python",
   "name": "python",
   "nbconvert_exporter": "python",
   "pygments_lexer": "ipython3",
   "version": "3.6.7"
  }
 },
 "nbformat": 4,
 "nbformat_minor": 2
}
